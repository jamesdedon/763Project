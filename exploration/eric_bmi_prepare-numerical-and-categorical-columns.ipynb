{
 "cells": [
  {
   "cell_type": "markdown",
   "metadata": {},
   "source": [
    "## Setup"
   ]
  },
  {
   "cell_type": "code",
   "execution_count": 41,
   "metadata": {
    "collapsed": true
   },
   "outputs": [],
   "source": [
    "from enum import Enum\n",
    "class COLUMN_TYPES(Enum):\n",
    "    NUMERICAL = 'numerical',\n",
    "    CATEGORICAL = 'categorical'"
   ]
  },
  {
   "cell_type": "markdown",
   "metadata": {},
   "source": [
    "## Config"
   ]
  },
  {
   "cell_type": "code",
   "execution_count": 42,
   "metadata": {
    "collapsed": true
   },
   "outputs": [],
   "source": [
    "FILE_PATH = '../atus/ehresp_2014.xlsx'\n",
    "SELECTED_COLUMNS = COLUMN_TYPES.CATEGORICAL"
   ]
  },
  {
   "cell_type": "markdown",
   "metadata": {},
   "source": [
    "## Load dataset\n",
    "- Separate the dataset into categorical, numerical, and target DataFrames.\n",
    "    - Having the categorical columns isolated will faciliate performing One Hot Encoding, whereas numerical columns do not need this manner of transformation.\n",
    "    - However, since `erbmi` is our target column, we will omit it from either of these DataFrames. Instead, we'll create a separate `dataset_target` DataFrame, which we'll then merge with either the `dataset_categorical` or `dataset_numerical`. "
   ]
  },
  {
   "cell_type": "code",
   "execution_count": 43,
   "metadata": {
    "collapsed": true
   },
   "outputs": [],
   "source": [
    "# Import libraries\n",
    "import numpy as np\n",
    "import matplotlib.pyplot as plt\n",
    "import pandas as pd"
   ]
  },
  {
   "cell_type": "code",
   "execution_count": 44,
   "metadata": {
    "collapsed": true
   },
   "outputs": [],
   "source": [
    "# Load the ehresp_2014 DataFrame\n",
    "ehresp_2014 = pd.read_excel(FILE_PATH)\n",
    "\n",
    "categorical_columns = ['eeincome1', \\\n",
    "                       'erhhch', \\\n",
    "                       'erincome', \\\n",
    "                       'erspemch', \\\n",
    "                       'ethgt', \\\n",
    "                       'etwgt', \\\n",
    "                       'eudietsoda', \\\n",
    "                       'eudrink', \\\n",
    "                       'eueat', \\\n",
    "                       'euexercise', \\\n",
    "                       'eufastfd', \\\n",
    "                       'euffyday', \\\n",
    "                       'eufdsit', \\\n",
    "                       'eusnap', \\\n",
    "                       'eugenhth', \\\n",
    "                       'eugroshp', \\\n",
    "                       'euinclvl', \\\n",
    "                       'euincome2', \\\n",
    "                       'eumeat', \\\n",
    "                       'eumilk', \\\n",
    "                       'euprpmel', \\\n",
    "                       'eusoda', \\\n",
    "                       'eustores', \\\n",
    "                       'eustreason', \\\n",
    "                       'eutherm', \\\n",
    "                       'euwic']\n",
    "\n",
    "# Excluding `erbmi` because we're using this to determine our target\n",
    "numerical_columns = ['ertpreat', \\\n",
    "                     'ertseat', \\\n",
    "                     'euexfreq', \\\n",
    "                     'eufastfdfrq', \\\n",
    "                     'euhgt', \\\n",
    "                     'euwgt']\n",
    "\n",
    "target_column = ['erbmi']\n",
    "\n",
    "dataset_numerical = ehresp_2014[numerical_columns]\n",
    "dataset_categorical = ehresp_2014[categorical_columns]\n",
    "dataset_target = ehresp_2014[target_column]"
   ]
  },
  {
   "cell_type": "markdown",
   "metadata": {},
   "source": [
    "## Select categorical or numerical data and merge with target\n",
    "- Select whether we want to work with categorical or numerical data.\n",
    "- Merge our chosen dataset (either cateogircal or numerical) with our target column, relying on the indices of each dataframe to perform the merge.\n",
    "    - [Pandas DataFrame Merge](https://stackoverflow.com/a/36539295)"
   ]
  },
  {
   "cell_type": "code",
   "execution_count": 45,
   "metadata": {
    "collapsed": true
   },
   "outputs": [],
   "source": [
    "# Choose which dataset we want to work with\n",
    "if (SELECTED_COLUMNS == COLUMN_TYPES.CATEGORICAL):\n",
    "    dataset = dataset_categorical.copy()\n",
    "elif (SELECTED_COLUMNS == COLUMN_TYPES.NUMERICAL):\n",
    "    dataset = dataset_numerical.copy()\n",
    "\n",
    "# Merge our chosen dataset with the target column\n",
    "dataset = dataset.merge(dataset_target, \\\n",
    "                        how='outer', \\\n",
    "                        left_index=True,\n",
    "                        right_index=True \\\n",
    "                       )"
   ]
  },
  {
   "cell_type": "markdown",
   "metadata": {},
   "source": [
    "## Get X & y and Train & Test\n",
    "- Switch from DataFrames to matrices\n",
    "- Pull out our predictors and target\n",
    "- Calculate target classes\n",
    "- Split and normalize data"
   ]
  },
  {
   "cell_type": "code",
   "execution_count": 46,
   "metadata": {
    "collapsed": true
   },
   "outputs": [],
   "source": [
    "# Get our X and y\n",
    "column_count = dataset.shape[1]\n",
    "X = dataset.iloc[:, 0:column_count-1].values\n",
    "y = dataset.iloc[:, -1].values"
   ]
  },
  {
   "cell_type": "code",
   "execution_count": 47,
   "metadata": {},
   "outputs": [],
   "source": [
    "# One Hot Encode categorical data\n",
    "if (SELECTED_COLUMNS == COLUMN_TYPES.CATEGORICAL):\n",
    "    from sklearn.preprocessing import LabelEncoder, OneHotEncoder \n",
    "\n",
    "    # Apply LabelEncoder to multiple columns: https://stackoverflow.com/a/31939145\n",
    "    X = pd.DataFrame(X).apply(LabelEncoder().fit_transform).values\n",
    "\n",
    "    # OHE for multiple columns using pd.get_dummies: https://stackoverflow.com/a/44601764\n",
    "    # Another get_dummies example: http://queirozf.com/entries/one-hot-encoding-a-feature-on-a-pandas-dataframe-an-example\n",
    "    # OHE vs. get_dummies: https://medium.com/@guaisang/handling-categorical-features-get-dummies-onehotencoder-and-multicollinearity-f9d473a40417\n",
    "    X_df = pd.DataFrame(X, columns=categorical_columns)\n",
    "    X_dummies = pd.get_dummies(X_df, columns=categorical_columns)\n",
    "    X = X_dummies\n",
    "    \n",
    "    # TODO: Determiner if there are extraneous \n",
    "    # dummy columns we want to drop after this.\n",
    "        "
   ]
  },
  {
   "cell_type": "code",
   "execution_count": 48,
   "metadata": {
    "collapsed": true
   },
   "outputs": [],
   "source": [
    "# Prepare our target\n",
    "# Define a function to return BMI class\n",
    "def get_bmi_class(bmi):\n",
    "    if bmi < 18.5:\n",
    "        return \"Excellent\"\n",
    "    elif bmi >= 18.5 and  bmi < 24.9:\n",
    "        return \"Normal Weight\"\n",
    "    elif bmi >= 24.9 and bmi < 29.9:\n",
    "        return \"Overweight\"\n",
    "    elif bmi > 30:\n",
    "        return \"Obese\"\n",
    "    else:\n",
    "        return \"Unknown\""
   ]
  },
  {
   "cell_type": "code",
   "execution_count": 49,
   "metadata": {
    "collapsed": true
   },
   "outputs": [],
   "source": [
    "# Convert `y` from a continuous to a categorical value\n",
    "y = np.asarray(pd.Series(get_bmi_class(bmi) for bmi in y))"
   ]
  },
  {
   "cell_type": "code",
   "execution_count": 50,
   "metadata": {
    "collapsed": true
   },
   "outputs": [],
   "source": [
    "# Split the data into a training and a testing set\n",
    "from sklearn.model_selection import train_test_split\n",
    "X_train, X_test, \\\n",
    "y_train, y_test = train_test_split(X, \\\n",
    "                                   y, \\\n",
    "                                   test_size=0.3, \\\n",
    "                                   random_state=0)\n"
   ]
  },
  {
   "cell_type": "code",
   "execution_count": 51,
   "metadata": {},
   "outputs": [],
   "source": [
    "# Normalize numerical data\n",
    "if (SELECTED_COLUMNS == COLUMN_TYPES.NUMERICAL):\n",
    "    from sklearn.preprocessing import StandardScaler\n",
    "    sc_X = StandardScaler()\n",
    "    X_train = sc_X.fit_transform(X_train)\n",
    "    X_test = sc_X.transform(X_test)"
   ]
  },
  {
   "cell_type": "code",
   "execution_count": 52,
   "metadata": {},
   "outputs": [
    {
     "name": "stdout",
     "output_type": "stream",
     "text": [
      "(7848, 136)\n",
      "(3364, 136)\n",
      "(7848,)\n",
      "(3364,)\n"
     ]
    }
   ],
   "source": [
    "# Examine the shape of the X & y Train & Test data\n",
    "print(X_train.shape)\n",
    "print(X_test.shape)\n",
    "print(y_train.shape)\n",
    "print(y_test.shape)"
   ]
  },
  {
   "cell_type": "code",
   "execution_count": 53,
   "metadata": {},
   "outputs": [
    {
     "data": {
      "text/html": [
       "<div>\n",
       "<style>\n",
       "    .dataframe thead tr:only-child th {\n",
       "        text-align: right;\n",
       "    }\n",
       "\n",
       "    .dataframe thead th {\n",
       "        text-align: left;\n",
       "    }\n",
       "\n",
       "    .dataframe tbody tr th {\n",
       "        vertical-align: top;\n",
       "    }\n",
       "</style>\n",
       "<table border=\"1\" class=\"dataframe\">\n",
       "  <thead>\n",
       "    <tr style=\"text-align: right;\">\n",
       "      <th></th>\n",
       "      <th>eeincome1_0</th>\n",
       "      <th>eeincome1_1</th>\n",
       "      <th>eeincome1_2</th>\n",
       "      <th>eeincome1_3</th>\n",
       "      <th>eeincome1_4</th>\n",
       "      <th>eeincome1_5</th>\n",
       "      <th>erhhch_0</th>\n",
       "      <th>erhhch_1</th>\n",
       "      <th>erhhch_2</th>\n",
       "      <th>erincome_0</th>\n",
       "      <th>...</th>\n",
       "      <th>eutherm_0</th>\n",
       "      <th>eutherm_1</th>\n",
       "      <th>eutherm_2</th>\n",
       "      <th>eutherm_3</th>\n",
       "      <th>eutherm_4</th>\n",
       "      <th>euwic_0</th>\n",
       "      <th>euwic_1</th>\n",
       "      <th>euwic_2</th>\n",
       "      <th>euwic_3</th>\n",
       "      <th>euwic_4</th>\n",
       "    </tr>\n",
       "  </thead>\n",
       "  <tbody>\n",
       "    <tr>\n",
       "      <th>7259</th>\n",
       "      <td>0</td>\n",
       "      <td>0</td>\n",
       "      <td>0</td>\n",
       "      <td>1</td>\n",
       "      <td>0</td>\n",
       "      <td>0</td>\n",
       "      <td>0</td>\n",
       "      <td>0</td>\n",
       "      <td>1</td>\n",
       "      <td>0</td>\n",
       "      <td>...</td>\n",
       "      <td>0</td>\n",
       "      <td>0</td>\n",
       "      <td>1</td>\n",
       "      <td>0</td>\n",
       "      <td>0</td>\n",
       "      <td>0</td>\n",
       "      <td>0</td>\n",
       "      <td>0</td>\n",
       "      <td>0</td>\n",
       "      <td>1</td>\n",
       "    </tr>\n",
       "    <tr>\n",
       "      <th>1833</th>\n",
       "      <td>0</td>\n",
       "      <td>0</td>\n",
       "      <td>0</td>\n",
       "      <td>1</td>\n",
       "      <td>0</td>\n",
       "      <td>0</td>\n",
       "      <td>0</td>\n",
       "      <td>0</td>\n",
       "      <td>1</td>\n",
       "      <td>0</td>\n",
       "      <td>...</td>\n",
       "      <td>0</td>\n",
       "      <td>0</td>\n",
       "      <td>0</td>\n",
       "      <td>0</td>\n",
       "      <td>1</td>\n",
       "      <td>0</td>\n",
       "      <td>0</td>\n",
       "      <td>0</td>\n",
       "      <td>0</td>\n",
       "      <td>1</td>\n",
       "    </tr>\n",
       "    <tr>\n",
       "      <th>8813</th>\n",
       "      <td>0</td>\n",
       "      <td>0</td>\n",
       "      <td>0</td>\n",
       "      <td>1</td>\n",
       "      <td>0</td>\n",
       "      <td>0</td>\n",
       "      <td>0</td>\n",
       "      <td>0</td>\n",
       "      <td>1</td>\n",
       "      <td>0</td>\n",
       "      <td>...</td>\n",
       "      <td>0</td>\n",
       "      <td>0</td>\n",
       "      <td>0</td>\n",
       "      <td>0</td>\n",
       "      <td>1</td>\n",
       "      <td>0</td>\n",
       "      <td>0</td>\n",
       "      <td>1</td>\n",
       "      <td>0</td>\n",
       "      <td>0</td>\n",
       "    </tr>\n",
       "    <tr>\n",
       "      <th>3152</th>\n",
       "      <td>0</td>\n",
       "      <td>0</td>\n",
       "      <td>0</td>\n",
       "      <td>1</td>\n",
       "      <td>0</td>\n",
       "      <td>0</td>\n",
       "      <td>0</td>\n",
       "      <td>0</td>\n",
       "      <td>1</td>\n",
       "      <td>0</td>\n",
       "      <td>...</td>\n",
       "      <td>0</td>\n",
       "      <td>0</td>\n",
       "      <td>1</td>\n",
       "      <td>0</td>\n",
       "      <td>0</td>\n",
       "      <td>0</td>\n",
       "      <td>0</td>\n",
       "      <td>0</td>\n",
       "      <td>0</td>\n",
       "      <td>1</td>\n",
       "    </tr>\n",
       "    <tr>\n",
       "      <th>3698</th>\n",
       "      <td>0</td>\n",
       "      <td>0</td>\n",
       "      <td>0</td>\n",
       "      <td>1</td>\n",
       "      <td>0</td>\n",
       "      <td>0</td>\n",
       "      <td>0</td>\n",
       "      <td>0</td>\n",
       "      <td>1</td>\n",
       "      <td>0</td>\n",
       "      <td>...</td>\n",
       "      <td>0</td>\n",
       "      <td>0</td>\n",
       "      <td>0</td>\n",
       "      <td>0</td>\n",
       "      <td>1</td>\n",
       "      <td>0</td>\n",
       "      <td>0</td>\n",
       "      <td>0</td>\n",
       "      <td>0</td>\n",
       "      <td>1</td>\n",
       "    </tr>\n",
       "  </tbody>\n",
       "</table>\n",
       "<p>5 rows × 136 columns</p>\n",
       "</div>"
      ],
      "text/plain": [
       "      eeincome1_0  eeincome1_1  eeincome1_2  eeincome1_3  eeincome1_4  \\\n",
       "7259            0            0            0            1            0   \n",
       "1833            0            0            0            1            0   \n",
       "8813            0            0            0            1            0   \n",
       "3152            0            0            0            1            0   \n",
       "3698            0            0            0            1            0   \n",
       "\n",
       "      eeincome1_5  erhhch_0  erhhch_1  erhhch_2  erincome_0   ...     \\\n",
       "7259            0         0         0         1           0   ...      \n",
       "1833            0         0         0         1           0   ...      \n",
       "8813            0         0         0         1           0   ...      \n",
       "3152            0         0         0         1           0   ...      \n",
       "3698            0         0         0         1           0   ...      \n",
       "\n",
       "      eutherm_0  eutherm_1  eutherm_2  eutherm_3  eutherm_4  euwic_0  euwic_1  \\\n",
       "7259          0          0          1          0          0        0        0   \n",
       "1833          0          0          0          0          1        0        0   \n",
       "8813          0          0          0          0          1        0        0   \n",
       "3152          0          0          1          0          0        0        0   \n",
       "3698          0          0          0          0          1        0        0   \n",
       "\n",
       "      euwic_2  euwic_3  euwic_4  \n",
       "7259        0        0        1  \n",
       "1833        0        0        1  \n",
       "8813        1        0        0  \n",
       "3152        0        0        1  \n",
       "3698        0        0        1  \n",
       "\n",
       "[5 rows x 136 columns]"
      ]
     },
     "execution_count": 53,
     "metadata": {},
     "output_type": "execute_result"
    }
   ],
   "source": [
    "# Examine our training set\n",
    "pd.DataFrame(X_train).head()"
   ]
  },
  {
   "cell_type": "code",
   "execution_count": null,
   "metadata": {
    "collapsed": true
   },
   "outputs": [],
   "source": []
  }
 ],
 "metadata": {
  "kernelspec": {
   "display_name": "Python 3",
   "language": "python",
   "name": "python3"
  },
  "language_info": {
   "codemirror_mode": {
    "name": "ipython",
    "version": 3
   },
   "file_extension": ".py",
   "mimetype": "text/x-python",
   "name": "python",
   "nbconvert_exporter": "python",
   "pygments_lexer": "ipython3",
   "version": "3.6.8"
  }
 },
 "nbformat": 4,
 "nbformat_minor": 2
}
