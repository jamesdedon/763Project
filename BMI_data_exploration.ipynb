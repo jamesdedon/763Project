{
 "cells": [
  {
   "cell_type": "code",
   "execution_count": 1,
   "metadata": {},
   "outputs": [
    {
     "name": "stdout",
     "output_type": "stream",
     "text": [
      "(11212, 35)\n"
     ]
    }
   ],
   "source": [
    "import pandas as pd\n",
    "load = pd.read_excel('atus/ehresp_2014.xlsx')\n",
    "column_names = ['eeincome1', 'erhhch', 'erincome', 'erspemch', 'ertpreat', 'ertseat', 'ethgt', 'etwgt', 'eudietsoda', 'eudrink', 'eueat', 'euexercise', 'euexfreq', 'eufastfd', 'eufastfdfrq', 'euffyday', 'eufdsit', 'eufinlwgt', 'eusnap', 'eugroshp', 'euhgt', 'euinclvl', 'euincome2', 'eumeat', 'eumilk', 'euprpmel', 'eusoda', 'eustores', 'eustreason', 'eutherm', 'euwgt', 'euwic', 'exincome1', 'eugenhth', 'erbmi']\n",
    "dataset = load[column_names]\n",
    "print(dataset.shape)"
   ]
  },
  {
   "cell_type": "code",
   "execution_count": 2,
   "metadata": {},
   "outputs": [
    {
     "name": "stdout",
     "output_type": "stream",
     "text": [
      "(11212, 35)\n",
      "11212\n",
      "-2.0\n"
     ]
    }
   ],
   "source": [
    "print(dataset.shape)\n",
    "print(dataset.shape[0])\n",
    "print(dataset.iloc[0].values.min())"
   ]
  },
  {
   "cell_type": "markdown",
   "metadata": {},
   "source": [
    "Page seven of the data dictionary specifies that variables with a negative value have the following meanings:\n",
    "\n",
    "-1 = Blank, -2 = Don't know, -3 = Refused\n",
    "\n",
    "In other words, negative values indicate missing data\n",
    "\n",
    "Below, I loop through all rows, and count rows that have a nonvalid (< 0) entry. \n",
    "\n",
    "99.8% of rows have a nonvalid entry."
   ]
  },
  {
   "cell_type": "code",
   "execution_count": 3,
   "metadata": {},
   "outputs": [
    {
     "name": "stdout",
     "output_type": "stream",
     "text": [
      "11168\n"
     ]
    }
   ],
   "source": [
    "count = 0\n",
    "for i in range(dataset.shape[0]):\n",
    "    if dataset.iloc[i].values.min() < 0 :\n",
    "        count +=1\n",
    "print(count)"
   ]
  },
  {
   "cell_type": "code",
   "execution_count": 4,
   "metadata": {},
   "outputs": [
    {
     "data": {
      "text/plain": [
       "0.9976810560114163"
      ]
     },
     "execution_count": 4,
     "metadata": {},
     "output_type": "execute_result"
    }
   ],
   "source": [
    "11186/11212"
   ]
  },
  {
   "cell_type": "code",
   "execution_count": 5,
   "metadata": {},
   "outputs": [
    {
     "data": {
      "text/plain": [
       "-2.0"
      ]
     },
     "execution_count": 5,
     "metadata": {},
     "output_type": "execute_result"
    }
   ],
   "source": [
    "dataset.iloc[0]['eeincome1']"
   ]
  },
  {
   "cell_type": "markdown",
   "metadata": {},
   "source": [
    "I thought it might be instructive to look at how many nonvalid entries each column has.\n",
    "\n",
    "Perhaps if a column has lots of nonvalid entries, we might want to stay away from it.\n",
    "\n",
    "For example eudietsoda has mostly nonvalid responses."
   ]
  },
  {
   "cell_type": "code",
   "execution_count": 6,
   "metadata": {},
   "outputs": [],
   "source": [
    "\n",
    "col_counts = dict()\n",
    "for name in column_names:\n",
    "    col_counts[name] = 0\n",
    "for i in range(dataset.shape[0]):\n",
    "    for name in column_names:\n",
    "        if dataset.iloc[i][name] < 0:\n",
    "            col_counts[name] += 1"
   ]
  },
  {
   "cell_type": "code",
   "execution_count": 7,
   "metadata": {},
   "outputs": [
    {
     "data": {
      "text/plain": [
       "{'eeincome1': 316,\n",
       " 'erhhch': 0,\n",
       " 'erincome': 280,\n",
       " 'erspemch': 5535,\n",
       " 'ertpreat': 0,\n",
       " 'ertseat': 63,\n",
       " 'ethgt': 161,\n",
       " 'etwgt': 500,\n",
       " 'eudietsoda': 8175,\n",
       " 'eudrink': 10,\n",
       " 'eueat': 63,\n",
       " 'euexercise': 57,\n",
       " 'euexfreq': 4219,\n",
       " 'eufastfd': 43,\n",
       " 'eufastfdfrq': 4772,\n",
       " 'euffyday': 4749,\n",
       " 'eufdsit': 51,\n",
       " 'eufinlwgt': 0,\n",
       " 'eusnap': 77,\n",
       " 'eugroshp': 3,\n",
       " 'euhgt': 161,\n",
       " 'euinclvl': 0,\n",
       " 'euincome2': 7699,\n",
       " 'eumeat': 3099,\n",
       " 'eumilk': 3093,\n",
       " 'euprpmel': 26,\n",
       " 'eusoda': 3699,\n",
       " 'eustores': 3004,\n",
       " 'eustreason': 3081,\n",
       " 'eutherm': 4036,\n",
       " 'euwgt': 500,\n",
       " 'euwic': 5407,\n",
       " 'exincome1': 21,\n",
       " 'eugenhth': 84,\n",
       " 'erbmi': 575}"
      ]
     },
     "execution_count": 7,
     "metadata": {},
     "output_type": "execute_result"
    }
   ],
   "source": [
    "col_counts"
   ]
  }
 ],
 "metadata": {
  "kernelspec": {
   "display_name": "Python 3",
   "language": "python",
   "name": "python3"
  },
  "language_info": {
   "codemirror_mode": {
    "name": "ipython",
    "version": 3
   },
   "file_extension": ".py",
   "mimetype": "text/x-python",
   "name": "python",
   "nbconvert_exporter": "python",
   "pygments_lexer": "ipython3",
   "version": "3.7.3"
  }
 },
 "nbformat": 4,
 "nbformat_minor": 2
}
