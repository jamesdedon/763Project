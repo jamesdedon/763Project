{
 "cells": [
  {
   "cell_type": "markdown",
   "metadata": {},
   "source": [
    "## Import a variety of libraries\n",
    "- `numpy`\n",
    "- `pyplot`\n",
    "- `pandas`"
   ]
  },
  {
   "cell_type": "code",
   "execution_count": 1,
   "metadata": {
    "collapsed": true
   },
   "outputs": [],
   "source": [
    "# Import libraries\n",
    "import numpy as np\n",
    "import matplotlib.pyplot as plt\n",
    "import pandas as pd"
   ]
  },
  {
   "cell_type": "markdown",
   "metadata": {},
   "source": [
    "## Load the dataset"
   ]
  },
  {
   "cell_type": "code",
   "execution_count": 3,
   "metadata": {},
   "outputs": [],
   "source": [
    "# Load the ehresp_2014 DataFrame\n",
    "FILE_PATH = '../atus/ehresp_2014.xlsx'\n",
    "ehresp_2014 = pd.read_excel(FILE_PATH)"
   ]
  },
  {
   "cell_type": "markdown",
   "metadata": {},
   "source": [
    "## Explore the dataset"
   ]
  },
  {
   "cell_type": "code",
   "execution_count": null,
   "metadata": {},
   "outputs": [],
   "source": [
    "# Start exploring ehresp_2014\n",
    "ehresp_2014.head()"
   ]
  },
  {
   "cell_type": "code",
   "execution_count": null,
   "metadata": {},
   "outputs": [],
   "source": [
    "ehresp_2014.describe()"
   ]
  },
  {
   "cell_type": "markdown",
   "metadata": {},
   "source": [
    "## Select a subset of columns\n",
    "- Rearrange the columns\n",
    "    - Place BMI (`erbmi`), our target, in the final column.\n",
    "    - Remove household ID (`tucaseid`) and respondent ID (`tulineno`), since those are not important for the present analysis."
   ]
  },
  {
   "cell_type": "code",
   "execution_count": null,
   "metadata": {
    "collapsed": true
   },
   "outputs": [],
   "source": [
    "dataset = ehresp_2014[['eeincome1', \\\n",
    "                       'erhhch', \\\n",
    "                       'erincome', \\\n",
    "                       'erspemch', \\\n",
    "                       'ertpreat', \\\n",
    "                       'ertseat', \\\n",
    "                       'ethgt', \\\n",
    "                       'etwgt', \\\n",
    "                       'eudietsoda', \\\n",
    "                       'eudrink', \\\n",
    "                       'eueat', \\\n",
    "                       'euexercise', \\\n",
    "                       'euexfreq', \\\n",
    "                       'eufastfd', \\\n",
    "                       'eufastfdfrq', \\\n",
    "                       'euffyday', \\\n",
    "                       'eufdsit', \\\n",
    "                       'eufinlwgt', \\\n",
    "                       'eusnap', \\\n",
    "                       'eugroshp', \\\n",
    "                       'euhgt', \\\n",
    "                       'euinclvl', \\\n",
    "                       'euincome2', \\\n",
    "                       'eumeat', \\\n",
    "                       'eumilk', \\\n",
    "                       'euprpmel', \\\n",
    "                       'eusoda', \\\n",
    "                       'eustores', \\\n",
    "                       'eustreason', \\\n",
    "                       'eutherm', \\\n",
    "                       'euwgt', \\\n",
    "                       'euwic', \\\n",
    "                       'exincome1', \\\n",
    "                       'eugenhth', \\\n",
    "                       'erbmi']]"
   ]
  },
  {
   "cell_type": "code",
   "execution_count": null,
   "metadata": {
    "collapsed": true
   },
   "outputs": [],
   "source": [
    "# Get our X and y\n",
    "column_count = dataset.shape[1]\n",
    "X = dataset.iloc[:, 0:column_count-1]\n",
    "y = dataset.iloc[:, -1]"
   ]
  },
  {
   "cell_type": "code",
   "execution_count": null,
   "metadata": {},
   "outputs": [],
   "source": [
    "# Verify the shape of our data\n",
    "print(X.shape)\n",
    "print(y.shape)"
   ]
  },
  {
   "cell_type": "markdown",
   "metadata": {},
   "source": [
    "## Classifying BMI\n",
    "- NIH classifies BMI in the following ranges\n",
    "    - Underweight: <18.5\n",
    "    - Normal weight: 18.5–24.9 \n",
    "    - Overweight: 25–29.9 \n",
    "    - Obesity: BMI of 30 or greater"
   ]
  },
  {
   "cell_type": "code",
   "execution_count": null,
   "metadata": {
    "collapsed": true
   },
   "outputs": [],
   "source": [
    "# Define a function to return BMI class\n",
    "def get_bmi_class(bmi):\n",
    "    if bmi < 18.5:\n",
    "        return \"Excellent\"\n",
    "    elif bmi >= 18.5 and  bmi < 24.9:\n",
    "        return \"Normal Weight\"\n",
    "    elif bmi >= 24.9 and bmi < 29.9:\n",
    "        return \"Overweight\"\n",
    "    elif bmi > 30:\n",
    "        return \"Obese\"\n",
    "    else:\n",
    "        return \"Unknown\"\n",
    "    \n",
    "# List comprehension: https://hackernoon.com/list-comprehension-in-python-8895a785550b\n",
    "# Convert List to Series: https://stackoverflow.com/questions/21646791/convert-python-list-to-pandas-series\n",
    "# Convert the generator into a Series, and the Series into a numpy array\n",
    "y = np.asarray(pd.Series(get_bmi_class(bmi) for bmi in y))"
   ]
  },
  {
   "cell_type": "markdown",
   "metadata": {},
   "source": [
    "## Split and normalize the dataset"
   ]
  },
  {
   "cell_type": "code",
   "execution_count": null,
   "metadata": {
    "collapsed": true
   },
   "outputs": [],
   "source": [
    "# Split the data into a training and a testing set\n",
    "from sklearn.model_selection import train_test_split\n",
    "X_train, X_test, \\\n",
    "y_train, y_test = train_test_split(X, \\\n",
    "                                   y, \\\n",
    "                                   test_size=0.3, \\\n",
    "                                   random_state=0)"
   ]
  },
  {
   "cell_type": "code",
   "execution_count": null,
   "metadata": {},
   "outputs": [],
   "source": [
    "# Verify the shape of our split data\n",
    "print(X_train.shape)\n",
    "print(y_test.shape)"
   ]
  },
  {
   "cell_type": "code",
   "execution_count": null,
   "metadata": {
    "collapsed": true
   },
   "outputs": [],
   "source": [
    "# Normalize the features\n",
    "from sklearn.preprocessing import StandardScaler\n",
    "sc_X = StandardScaler()\n",
    "X_train = sc_X.fit_transform(X_train)\n",
    "X_test = sc_X.transform(X_test)"
   ]
  },
  {
   "cell_type": "markdown",
   "metadata": {},
   "source": [
    "## Use Logistic Regression to predict BMI"
   ]
  },
  {
   "cell_type": "code",
   "execution_count": null,
   "metadata": {
    "collapsed": true
   },
   "outputs": [],
   "source": [
    "# Fit Logistic Regression to our training set\n",
    "from sklearn.linear_model import LogisticRegression\n",
    "classifierObj = LogisticRegression(random_state=0)\n",
    "classifierObj.fit(X_train, y_train)"
   ]
  },
  {
   "cell_type": "code",
   "execution_count": null,
   "metadata": {
    "collapsed": true
   },
   "outputs": [],
   "source": [
    "# Make predictions on our test set\n",
    "y_pred = classifierObj.predict(X_test)"
   ]
  },
  {
   "cell_type": "markdown",
   "metadata": {},
   "source": [
    "## Score the model"
   ]
  },
  {
   "cell_type": "code",
   "execution_count": null,
   "metadata": {
    "collapsed": true
   },
   "outputs": [],
   "source": [
    "# Accuracy\n",
    "from sklearn.metrics import accuracy_score\n",
    "accuracy_score(y_test, y_pred)"
   ]
  },
  {
   "cell_type": "code",
   "execution_count": null,
   "metadata": {
    "collapsed": true
   },
   "outputs": [],
   "source": [
    "# Confusion matrix\n",
    "from sklearn.metrics import confusion_matrix\n",
    "confusion_matrix(y_test, y_pred)"
   ]
  },
  {
   "cell_type": "markdown",
   "metadata": {},
   "source": [
    "## Next steps\n",
    "- Build visualizations\n",
    "    - Data exploration and data profiling\n",
    "    - Model evaluation\n",
    "- Try different algorithms and hyperparameters\n",
    "    - Classification\n",
    "    - Regression\n",
    "    - Clustering\n",
    "- Ask a different question\n",
    "    - Classification\n",
    "        - Predict health stauus (`Excellent`, `Very Good`, `Good`, `Fair`, `Poor`)\n",
    "    - Regression\n",
    "        - Predict BMI (`erbmi`)\n",
    "    - Clustering\n",
    "        - E.g., behavioral, diet, activity, and health status or BMI category\n",
    "- Try feature selection and dimensionality reduction\n",
    "    - From a public health and policy standpoint, what behaviors and characteristics seem most related to a healthy BMI?\n",
    "- Build pipelines\n",
    "    - Automate feature selection, hyperparameter tuning, etc."
   ]
  },
  {
   "cell_type": "code",
   "execution_count": null,
   "metadata": {
    "collapsed": true
   },
   "outputs": [],
   "source": []
  }
 ],
 "metadata": {
  "kernelspec": {
   "display_name": "Python 3",
   "language": "python",
   "name": "python3"
  },
  "language_info": {
   "codemirror_mode": {
    "name": "ipython",
    "version": 3
   },
   "file_extension": ".py",
   "mimetype": "text/x-python",
   "name": "python",
   "nbconvert_exporter": "python",
   "pygments_lexer": "ipython3",
   "version": "3.6.8"
  }
 },
 "nbformat": 4,
 "nbformat_minor": 2
}
