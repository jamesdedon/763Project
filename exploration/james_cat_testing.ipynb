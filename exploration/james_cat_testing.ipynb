{
 "cells": [
  {
   "cell_type": "markdown",
   "metadata": {},
   "source": [
    "## Setup"
   ]
  },
  {
   "cell_type": "code",
   "execution_count": null,
   "metadata": {
    "collapsed": true
   },
   "outputs": [],
   "source": [
    "from enum import Enum\n",
    "class COLUMN_TYPES(Enum):\n",
    "    NUMERICAL = 'numerical',\n",
    "    CATEGORICAL = 'categorical'"
   ]
  },
  {
   "cell_type": "markdown",
   "metadata": {},
   "source": [
    "## Config"
   ]
  },
  {
   "cell_type": "code",
   "execution_count": null,
   "metadata": {
    "collapsed": true
   },
   "outputs": [],
   "source": [
    "FILE_PATH = '../atus/ehresp_2014.xlsx'\n",
    "SELECTED_COLUMNS = COLUMN_TYPES.CATEGORICAL"
   ]
  },
  {
   "cell_type": "markdown",
   "metadata": {},
   "source": [
    "## Load dataset\n",
    "- Separate the dataset into categorical, numerical, and target DataFrames.\n",
    "    - Having the categorical columns isolated will faciliate performing One Hot Encoding, whereas numerical columns do not need this manner of transformation.\n",
    "    - However, since `erbmi` is our target column, we will omit it from either of these DataFrames. Instead, we'll create a separate `dataset_target` DataFrame, which we'll then merge with either the `dataset_categorical` or `dataset_numerical`. "
   ]
  },
  {
   "cell_type": "code",
   "execution_count": null,
   "metadata": {
    "collapsed": true
   },
   "outputs": [],
   "source": [
    "# Import libraries\n",
    "import numpy as np\n",
    "import matplotlib.pyplot as plt\n",
    "import pandas as pd\n",
    "from sklearn.metrics import accuracy_score\n",
    "import timeit"
   ]
  },
  {
   "cell_type": "code",
   "execution_count": null,
   "metadata": {
    "collapsed": true
   },
   "outputs": [],
   "source": [
    "# Load the ehresp_2014 DataFrame\n",
    "ehresp_2014 = pd.read_excel(FILE_PATH)\n",
    "\n",
    "categorical_columns = ['eeincome1', \\\n",
    "                       'erhhch', \\\n",
    "                       'erincome', \\\n",
    "                       'erspemch', \\\n",
    "                       'ethgt', \\\n",
    "                       'etwgt', \\\n",
    "                       'eudietsoda', \\\n",
    "                       'eudrink', \\\n",
    "                       'eueat', \\\n",
    "                       'euexercise', \\\n",
    "                       'eufastfd', \\\n",
    "                       'euffyday', \\\n",
    "                       'eufdsit', \\\n",
    "                       'eusnap', \\\n",
    "                       'eugenhth', \\\n",
    "                       'eugroshp', \\\n",
    "                       'euinclvl', \\\n",
    "                       'euincome2', \\\n",
    "                       'eumeat', \\\n",
    "                       'eumilk', \\\n",
    "                       'euprpmel', \\\n",
    "                       'eusoda', \\\n",
    "                       'eustores', \\\n",
    "                       'eustreason', \\\n",
    "                       'eutherm', \\\n",
    "                       'euwic']\n",
    "\n",
    "# Excluding `erbmi` because we're using this to determine our target\n",
    "numerical_columns = ['ertpreat', \\\n",
    "                     'ertseat', \\\n",
    "                     'euexfreq', \\\n",
    "                     'eufastfdfrq', \\\n",
    "                     'euhgt', \\\n",
    "                     'euwgt']\n",
    "\n",
    "target_column = ['erbmi']\n",
    "\n",
    "dataset_numerical = ehresp_2014[numerical_columns]\n",
    "dataset_categorical = ehresp_2014[categorical_columns]\n",
    "dataset_target = ehresp_2014[target_column]"
   ]
  },
  {
   "cell_type": "markdown",
   "metadata": {},
   "source": [
    "## Select categorical or numerical data and merge with target\n",
    "- Select whether we want to work with categorical or numerical data.\n",
    "- Merge our chosen dataset (either cateogircal or numerical) with our target column, relying on the indices of each dataframe to perform the merge.\n",
    "    - [Pandas DataFrame Merge](https://stackoverflow.com/a/36539295)"
   ]
  },
  {
   "cell_type": "code",
   "execution_count": null,
   "metadata": {
    "collapsed": true
   },
   "outputs": [],
   "source": [
    "# Choose which dataset we want to work with\n",
    "if (SELECTED_COLUMNS == COLUMN_TYPES.CATEGORICAL):\n",
    "    dataset = dataset_categorical.copy()\n",
    "elif (SELECTED_COLUMNS == COLUMN_TYPES.NUMERICAL):\n",
    "    dataset = dataset_numerical.copy()\n",
    "\n",
    "# Merge our chosen dataset with the target column\n",
    "dataset = dataset.merge(dataset_target, \\\n",
    "                        how='outer', \\\n",
    "                        left_index=True,\n",
    "                        right_index=True \\\n",
    "                       )"
   ]
  },
  {
   "cell_type": "markdown",
   "metadata": {},
   "source": [
    "## Get X & y and Train & Test\n",
    "- Switch from DataFrames to matrices\n",
    "- Pull out our predictors and target\n",
    "- Calculate target classes\n",
    "- Split and normalize data"
   ]
  },
  {
   "cell_type": "code",
   "execution_count": null,
   "metadata": {
    "collapsed": true
   },
   "outputs": [],
   "source": [
    "# Get our X and y\n",
    "column_count = dataset.shape[1]\n",
    "X = dataset.iloc[:, 0:column_count-1].values\n",
    "y = dataset.iloc[:, -1].values"
   ]
  },
  {
   "cell_type": "code",
   "execution_count": null,
   "metadata": {
    "collapsed": true
   },
   "outputs": [],
   "source": [
    "# One Hot Encode categorical data\n",
    "if (SELECTED_COLUMNS == COLUMN_TYPES.CATEGORICAL):\n",
    "    from sklearn.preprocessing import LabelEncoder, OneHotEncoder \n",
    "\n",
    "    # Apply LabelEncoder to multiple columns: https://stackoverflow.com/a/31939145\n",
    "    X = pd.DataFrame(X).apply(LabelEncoder().fit_transform).values\n",
    "\n",
    "    # OHE for multiple columns using pd.get_dummies: https://stackoverflow.com/a/44601764\n",
    "    # Another get_dummies example: http://queirozf.com/entries/one-hot-encoding-a-feature-on-a-pandas-dataframe-an-example\n",
    "    # OHE vs. get_dummies: https://medium.com/@guaisang/handling-categorical-features-get-dummies-onehotencoder-and-multicollinearity-f9d473a40417\n",
    "    X_df = pd.DataFrame(X, columns=categorical_columns)\n",
    "    X_dummies = pd.get_dummies(X_df, columns=categorical_columns)\n",
    "    X = X_dummies.values\n",
    "    \n",
    "    # TODO: Determine if there are extraneous \n",
    "    # dummy columns we want to drop after this.\n",
    "        "
   ]
  },
  {
   "cell_type": "code",
   "execution_count": null,
   "metadata": {
    "collapsed": true
   },
   "outputs": [],
   "source": [
    "# Prepare our target\n",
    "# Define a function to return BMI class\n",
    "def get_bmi_class(bmi):\n",
    "    if bmi < 18.5:\n",
    "        return \"Excellent\"\n",
    "    elif bmi >= 18.5 and  bmi < 24.9:\n",
    "        return \"Normal Weight\"\n",
    "    elif bmi >= 24.9 and bmi < 29.9:\n",
    "        return \"Overweight\"\n",
    "    elif bmi > 30:\n",
    "        return \"Obese\"\n",
    "    else:\n",
    "        return \"Unknown\""
   ]
  },
  {
   "cell_type": "code",
   "execution_count": null,
   "metadata": {
    "collapsed": true
   },
   "outputs": [],
   "source": [
    "# Convert `y` from a continuous to a categorical value\n",
    "y = np.asarray(pd.Series(get_bmi_class(bmi) for bmi in y))"
   ]
  },
  {
   "cell_type": "code",
   "execution_count": null,
   "metadata": {
    "collapsed": true
   },
   "outputs": [],
   "source": [
    "# Split the data into a training and a testing set\n",
    "from sklearn.model_selection import train_test_split\n",
    "X_train, X_test, \\\n",
    "y_train, y_test = train_test_split(X, \\\n",
    "                                   y, \\\n",
    "                                   test_size=0.3, \\\n",
    "                                   random_state=0)\n"
   ]
  },
  {
   "cell_type": "code",
   "execution_count": null,
   "metadata": {
    "collapsed": true
   },
   "outputs": [],
   "source": [
    "# Normalize numerical data\n",
    "if (SELECTED_COLUMNS == COLUMN_TYPES.NUMERICAL):\n",
    "    from sklearn.preprocessing import StandardScaler\n",
    "    sc_X = StandardScaler()\n",
    "    X_train = sc_X.fit_transform(X_train)\n",
    "    X_test = sc_X.transform(X_test)"
   ]
  },
  {
   "cell_type": "code",
   "execution_count": null,
   "metadata": {},
   "outputs": [],
   "source": [
    "# Examine the shape of the X & y Train & Test data\n",
    "print(X_train.shape)\n",
    "print(X_test.shape)\n",
    "print(y_train.shape)\n",
    "print(y_test.shape)"
   ]
  },
  {
   "cell_type": "code",
   "execution_count": null,
   "metadata": {},
   "outputs": [],
   "source": [
    "# Examine our training set\n",
    "pd.DataFrame(X_train).head()"
   ]
  },
  {
   "cell_type": "markdown",
   "metadata": {},
   "source": [
    "# SVM"
   ]
  },
  {
   "cell_type": "code",
   "execution_count": null,
   "metadata": {},
   "outputs": [],
   "source": [
    "# Linear kernel\n",
    "from sklearn.svm import SVC\n",
    "classifierObj = SVC(kernel='linear', degree=a, gamma='auto')\n",
    "classifierObj.fit(X_train, y_train)\n",
    "\n",
    "#Making predictions on the Test Set\n",
    "y_pred = classifierObj.predict(X_test)\n",
    "\n",
    "print(accuracy_score(y_test, y_pred))"
   ]
  },
  {
   "cell_type": "code",
   "execution_count": 23,
   "metadata": {},
   "outputs": [
    {
     "data": {
      "image/png": "[encoded data removed]",
      "text/plain": [
       "<Figure size 432x288 with 1 Axes>"
      ]
     },
     "metadata": {
      "needs_background": "light"
     },
     "output_type": "display_data"
    }
   ],
   "source": [
    "# Poly kernel \n",
    "degree = np.arange(1,10) \n",
    "scores = []\n",
    "for a in degree:\n",
    "    classifierObj = SVC(kernel='poly', degree=a, gamma='auto')\n",
    "    classifierObj.fit(X_train, y_train)\n",
    "\n",
    "    #Making predictions on the Test Set\n",
    "    y_pred = classifierObj.predict(X_test)\n",
    "\n",
    "    scores.append(accuracy_score(y_test, y_pred))\n",
    "    \n",
    "plt.plot(degree, scores)\n",
    "plt.show()"
   ]
  },
  {
   "cell_type": "code",
   "execution_count": null,
   "metadata": {},
   "outputs": [],
   "source": [
    "# rbf kernel\n",
    "degree = np.arange(1,10) \n",
    "scores = []\n",
    "for a in degree:\n",
    "    classifierObj = SVC(kernel='rbf', degree=a, gamma='auto')\n",
    "    classifierObj.fit(X_train, y_train)\n",
    "\n",
    "    #Making predictions on the Test Set\n",
    "    y_pred = classifierObj.predict(X_test)\n",
    "\n",
    "    scores.append(accuracy_score(y_test, y_pred))\n",
    "    \n",
    "plt.plot(degree, scores)\n",
    "plt.show()"
   ]
  },
  {
   "cell_type": "code",
   "execution_count": null,
   "metadata": {},
   "outputs": [],
   "source": [
    "# sigmoid kernel\n",
    "degree = np.arange(1,10) \n",
    "scores = []\n",
    "for a in degree:\n",
    "    classifierObj = SVC(kernel='sigmoid', degree=a, gamma='auto')\n",
    "    classifierObj.fit(X_train, y_train)\n",
    "\n",
    "    #Making predictions on the Test Set\n",
    "    y_pred = classifierObj.predict(X_test)\n",
    "\n",
    "    scores.append(accuracy_score(y_test, y_pred))\n",
    "    \n",
    "plt.plot(degree, scores)\n",
    "plt.show()"
   ]
  },
  {
   "cell_type": "markdown",
   "metadata": {},
   "source": [
    "# Kernel SVM"
   ]
  },
  {
   "cell_type": "code",
   "execution_count": null,
   "metadata": {},
   "outputs": [],
   "source": [
    "#Fitting Classifier to Training Set. Create a classifier object here and call it classifierObj\n",
    "from sklearn.svm import SVC\n",
    "classifierObj = SVC(gamma=\"auto\")\n",
    "classifierObj.fit(X_train, y_train)"
   ]
  },
  {
   "cell_type": "code",
   "execution_count": null,
   "metadata": {},
   "outputs": [],
   "source": [
    "#Making predictions on the Test Set\n",
    "y_pred = classifierObj.predict(X_test)"
   ]
  },
  {
   "cell_type": "code",
   "execution_count": null,
   "metadata": {},
   "outputs": [],
   "source": [
    "#Evaluating the predictions using a Confusion Matrix\n",
    "from sklearn.metrics import confusion_matrix\n",
    "cm = confusion_matrix(y_test, y_pred)\n",
    "\n",
    "print(cm)"
   ]
  },
  {
   "cell_type": "markdown",
   "metadata": {},
   "source": [
    "# Logistic Regression"
   ]
  },
  {
   "cell_type": "code",
   "execution_count": null,
   "metadata": {
    "collapsed": true
   },
   "outputs": [],
   "source": [
    "from sklearn.linear_model import LogisticRegression\n",
    "classifierObj = LogisticRegression(random_state=0)\n",
    "classifierObj.fit(X_train, y_train)"
   ]
  },
  {
   "cell_type": "code",
   "execution_count": null,
   "metadata": {},
   "outputs": [],
   "source": [
    "#Making predictions on the Test Set\n",
    "y_pred = classifierObj.predict(X_test)"
   ]
  },
  {
   "cell_type": "code",
   "execution_count": null,
   "metadata": {},
   "outputs": [],
   "source": [
    "#Evaluating the predictions using a Confusion Matrix\n",
    "from sklearn.metrics import confusion_matrix\n",
    "cm = confusion_matrix(y_test, y_pred)\n",
    "\n",
    "print(cm)"
   ]
  },
  {
   "cell_type": "markdown",
   "metadata": {},
   "source": [
    "# KNN"
   ]
  },
  {
   "cell_type": "code",
   "execution_count": 26,
   "metadata": {},
   "outputs": [
    {
     "data": {
      "image/png": "[encoded data removed]",
      "text/plain": [
       "<Figure size 432x288 with 1 Axes>"
      ]
     },
     "metadata": {
      "needs_background": "light"
     },
     "output_type": "display_data"
    }
   ],
   "source": [
    "from sklearn.neighbors import KNeighborsClassifier\n",
    "k = np.arange(1,50)\n",
    "scores = []\n",
    "for a in k:\n",
    "    classifierObj = KNeighborsClassifier(n_neighbors=a, p=2, metric='minkowski')\n",
    "    classifierObj.fit(X_train, y_train)\n",
    "\n",
    "    #Making predictions on the Test Set\n",
    "    y_pred = classifierObj.predict(X_test)\n",
    "\n",
    "    b = accuracy_score(y_test, y_pred)\n",
    "    scores.append(b)\n",
    "    \n",
    "plt.plot(k, scores)\n",
    "plt.show()"
   ]
  },
  {
   "cell_type": "markdown",
   "metadata": {},
   "source": [
    "# Random Forest Classifier"
   ]
  },
  {
   "cell_type": "code",
   "execution_count": 27,
   "metadata": {},
   "outputs": [
    {
     "data": {
      "image/png": "[encoded data removed]",
      "text/plain": [
       "<Figure size 432x288 with 1 Axes>"
      ]
     },
     "metadata": {
      "needs_background": "light"
     },
     "output_type": "display_data"
    }
   ],
   "source": [
    "from sklearn.ensemble import RandomForestClassifier\n",
    "\n",
    "estimators = np.arange(1,51)\n",
    "scores = []\n",
    "for a in estimators:\n",
    "    classifierObj = RandomForestClassifier(n_estimators=a, criterion='gini')\n",
    "    classifierObj.fit(X_train,y_train)\n",
    "\n",
    "    #Making predictions on the Test Set\n",
    "    y_pred = classifierObj.predict(X_test)\n",
    "\n",
    "    b = accuracy_score(y_test, y_pred)\n",
    "    scores.append(b)\n",
    "    \n",
    "plt.plot(estimators, scores)\n",
    "plt.show()"
   ]
  },
  {
   "cell_type": "code",
   "execution_count": null,
   "metadata": {},
   "outputs": [],
   "source": []
  }
 ],
 "metadata": {
  "kernelspec": {
   "display_name": "Python 3",
   "language": "python",
   "name": "python3"
  },
  "language_info": {
   "codemirror_mode": {
    "name": "ipython",
    "version": 3
   },
   "file_extension": ".py",
   "mimetype": "text/x-python",
   "name": "python",
   "nbconvert_exporter": "python",
   "pygments_lexer": "ipython3",
   "version": "3.7.3"
  }
 },
 "nbformat": 4,
 "nbformat_minor": 2
}
