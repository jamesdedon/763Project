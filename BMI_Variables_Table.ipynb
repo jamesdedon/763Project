{
 "cells": [
  {
   "cell_type": "markdown",
   "metadata": {},
   "source": [
    "| Variable | Description|\n",
    "| :--- | --- |\n",
    "|'eeincome1'| Monthly Income in three categories|\n",
    "|'erhhch'| Change in number of persons in household|\n",
    "|'erincome'| Income in five categories|\n",
    "|'erspemch'| Change in spouse's employment status|\n",
    "|'ertpreat'| time spent in primary eating and drinking [0--1440]|\n",
    "|'ertseat'| time spent in secondary eating and drinking [0--1440]|\n",
    "|'ethgt'| Topcode flag for height|\n",
    "|'etwgt'|topcode flag for weight|\n",
    "|'eudietsoda'| was the soft drink diet (=1), regular (=2), or both (=3)|\n",
    "|'eudrink'| did you drink something besides water ?|\n",
    "|'eueat'| did you eat while doing something else ?|\n",
    "|'euexercise'| did you exercise in the last week ?|\n",
    "|'euexfreq'| how many times did you exercise in the last week| \n",
    "|'eufastfd'| did you purchase any prepared food|\n",
    "|'eufastfdfrq'|how many times did you buy prepared food in the last week|\n",
    "|'euffyday'|did you buy prepared food yesterday|\n",
    "|'eufdsit'|did you get enough to eat last month|\n",
    "|'eufinlwgt'| final weight|\n",
    "|'eusnap'|did you get food stamps this month|\n",
    "|'eugroshp'|are you the person in your household who goes grocery shopping|\n",
    "|'euhgt'|height in inches|\n",
    "|'euinclvl'|which year's poverty threshold was used for income categories|\n",
    "|'euincome2'|monthly income compared to poverty threshold above (=1), below (=2), equal (=3)|\n",
    "|'eumeat'| did you eat meat or seafood in the last week (1=Yes) (2=No)|\n",
    "|'eumilk'|Did you drink raw milk last week (same)|\n",
    "|'euprpmel'|Do you do the cooking in your home (same)|\n",
    "|'eusoda'|Were any non-water beverages softdrinks ?|\n",
    "|'eustores'|Where do you usually buy your groceries (five categories)|\n",
    "|'eustreason'|why do you shop there (six categories)|\n",
    "|'eutherm'|Do you use a food thermometer|\n",
    "|'euwgt'|You weight in pounds [98--340]|\n",
    "|'euwic'|Do you get WIC benefits|\n",
    "|'exincome1'| method used to edit value of variable 'eeincome1'|\n",
    "|'eugenhth'| how would you rank your health [1--5, 1 is best]| \n",
    "|'erbmi'| BMI [0-200]|\n"
   ]
  },
  {
   "cell_type": "code",
   "execution_count": null,
   "metadata": {},
   "outputs": [],
   "source": []
  }
 ],
 "metadata": {
  "kernelspec": {
   "display_name": "Python 3",
   "language": "python",
   "name": "python3"
  },
  "language_info": {
   "codemirror_mode": {
    "name": "ipython",
    "version": 3
   },
   "file_extension": ".py",
   "mimetype": "text/x-python",
   "name": "python",
   "nbconvert_exporter": "python",
   "pygments_lexer": "ipython3",
   "version": "3.7.3"
  }
 },
 "nbformat": 4,
 "nbformat_minor": 2
}
